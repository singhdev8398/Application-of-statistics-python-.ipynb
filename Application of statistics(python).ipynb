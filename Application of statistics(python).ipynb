{
 "cells": [
  {
   "cell_type": "code",
   "execution_count": 77,
   "id": "ec0e765e",
   "metadata": {},
   "outputs": [],
   "source": [
    "#import libraries\n",
    "import numpy as np\n",
    "import pandas as pd \n",
    "import seaborn as sns \n",
    "import matplotlib.pyplot as plt \n",
    "import scipy.stats as stat\n",
    "import pylab as pl\n",
    "import statistics as st \n",
    "import math"
   ]
  },
  {
   "cell_type": "code",
   "execution_count": 78,
   "id": "da904a61",
   "metadata": {},
   "outputs": [
    {
     "data": {
      "text/plain": [
       "[1,\n",
       " 5,\n",
       " 6,\n",
       " 7,\n",
       " 8,\n",
       " 9,\n",
       " 10,\n",
       " 12,\n",
       " 13,\n",
       " 14,\n",
       " 15,\n",
       " 16,\n",
       " 18,\n",
       " 19,\n",
       " 20,\n",
       " 21,\n",
       " 22,\n",
       " 23,\n",
       " 24,\n",
       " 25,\n",
       " 26,\n",
       " 27,\n",
       " 28]"
      ]
     },
     "execution_count": 78,
     "metadata": {},
     "output_type": "execute_result"
    }
   ],
   "source": [
    "#assign data\n",
    "dataset=[1,5,6,7,8,9,10,12,13,14,15,16,18,19,20,21,22,23,24,25,26,27,28 ]   #assume population data\n",
    "dataset\n"
   ]
  },
  {
   "cell_type": "code",
   "execution_count": 79,
   "id": "eface587",
   "metadata": {},
   "outputs": [
    {
     "data": {
      "text/plain": [
       "[1, 5, 6, 7, 8, 9, 10, 12, 13, 14]"
      ]
     },
     "execution_count": 79,
     "metadata": {},
     "output_type": "execute_result"
    }
   ],
   "source": [
    "sample_data=[1,5,6,7,8,9,10,12,13,14]\n",
    "sample_data               #we take subdata from dataset that is called sample data\n"
   ]
  },
  {
   "cell_type": "code",
   "execution_count": 80,
   "id": "b7afe1ca",
   "metadata": {},
   "outputs": [
    {
     "data": {
      "text/plain": [
       "(array([1., 2., 3., 1., 3., 2., 2., 3., 3., 3.]),\n",
       " array([ 1. ,  3.7,  6.4,  9.1, 11.8, 14.5, 17.2, 19.9, 22.6, 25.3, 28. ]),\n",
       " <BarContainer object of 10 artists>)"
      ]
     },
     "execution_count": 80,
     "metadata": {},
     "output_type": "execute_result"
    },
    {
     "data": {
      "image/png": "[encoded data removed]",
      "text/plain": [
       "<Figure size 432x288 with 1 Axes>"
      ]
     },
     "metadata": {
      "needs_background": "light"
     },
     "output_type": "display_data"
    }
   ],
   "source": [
    "plt.hist(dataset)   #continuous histogram"
   ]
  },
  {
   "cell_type": "code",
   "execution_count": 81,
   "id": "ea301255",
   "metadata": {},
   "outputs": [
    {
     "data": {
      "text/plain": [
       "[1,\n",
       " 5,\n",
       " 6,\n",
       " 7,\n",
       " 8,\n",
       " 9,\n",
       " 10,\n",
       " 12,\n",
       " 13,\n",
       " 14,\n",
       " 15,\n",
       " 16,\n",
       " 18,\n",
       " 19,\n",
       " 20,\n",
       " 21,\n",
       " 22,\n",
       " 23,\n",
       " 24,\n",
       " 25,\n",
       " 26,\n",
       " 27,\n",
       " 28,\n",
       " 60,\n",
       " 80,\n",
       " 100]"
      ]
     },
     "execution_count": 81,
     "metadata": {},
     "output_type": "execute_result"
    }
   ],
   "source": [
    "dataset1=[1,5,6,7,8,9,10,12,13,14,15,16,18,19,20,21,22,23,24,25,26,27,28,60,80,100 ]  \n",
    "dataset1"
   ]
  },
  {
   "cell_type": "code",
   "execution_count": 82,
   "id": "27cd334a",
   "metadata": {},
   "outputs": [
    {
     "data": {
      "text/plain": [
       "(array([7., 8., 8., 0., 0., 1., 0., 1., 0., 1.]),\n",
       " array([  1. ,  10.9,  20.8,  30.7,  40.6,  50.5,  60.4,  70.3,  80.2,\n",
       "         90.1, 100. ]),\n",
       " <BarContainer object of 10 artists>)"
      ]
     },
     "execution_count": 82,
     "metadata": {},
     "output_type": "execute_result"
    },
    {
     "data": {
      "image/png": "[encoded data removed]",
      "text/plain": [
       "<Figure size 432x288 with 1 Axes>"
      ]
     },
     "metadata": {
      "needs_background": "light"
     },
     "output_type": "display_data"
    }
   ],
   "source": [
    "plt.hist(dataset1) #discrete histogram "
   ]
  },
  {
   "cell_type": "code",
   "execution_count": 83,
   "id": "2f5be639",
   "metadata": {},
   "outputs": [],
   "source": [
    "dataset=[1,5,6,7,8,9,10,12,13,14,15,16,18,19,20,21,22,23,24,25,26,27,28 ]  \n",
    "\n"
   ]
  },
  {
   "cell_type": "code",
   "execution_count": 84,
   "id": "51508438",
   "metadata": {},
   "outputs": [
    {
     "name": "stdout",
     "output_type": "stream",
     "text": [
      "16.043478260869566\n",
      "16.043478260869566\n"
     ]
    }
   ],
   "source": [
    "#mean of dataset\n",
    "print(np.mean(dataset))\n",
    "print(st.mean(dataset))"
   ]
  },
  {
   "cell_type": "code",
   "execution_count": 85,
   "id": "0257a9e7",
   "metadata": {},
   "outputs": [
    {
     "name": "stdout",
     "output_type": "stream",
     "text": [
      "16.0\n",
      "16\n"
     ]
    }
   ],
   "source": [
    "#median of dataset\n",
    "print(np.median(dataset))\n",
    "print(st.median(dataset))"
   ]
  },
  {
   "cell_type": "code",
   "execution_count": 86,
   "id": "376e59a5",
   "metadata": {},
   "outputs": [
    {
     "data": {
      "text/plain": [
       "1"
      ]
     },
     "execution_count": 86,
     "metadata": {},
     "output_type": "execute_result"
    }
   ],
   "source": [
    "#mode of dataset\n",
    "st.mode(dataset)"
   ]
  },
  {
   "cell_type": "code",
   "execution_count": 87,
   "id": "d5acd1fd",
   "metadata": {},
   "outputs": [],
   "source": [
    "dataset=[1,5,6,7,8,9,10,12,13,14,15,16,18,19,20,21,22,23,24,25,26,27,28,100]  "
   ]
  },
  {
   "cell_type": "code",
   "execution_count": 88,
   "id": "6c3fce5e",
   "metadata": {},
   "outputs": [
    {
     "name": "stderr",
     "output_type": "stream",
     "text": [
      "C:\\Users\\ASUS\\anaconda3\\lib\\site-packages\\seaborn\\_decorators.py:36: FutureWarning: Pass the following variable as a keyword arg: x. From version 0.12, the only valid positional argument will be `data`, and passing other arguments without an explicit keyword will result in an error or misinterpretation.\n",
      "  warnings.warn(\n"
     ]
    },
    {
     "data": {
      "text/plain": [
       "<AxesSubplot:>"
      ]
     },
     "execution_count": 88,
     "metadata": {},
     "output_type": "execute_result"
    },
    {
     "data": {
      "image/png": "[encoded data removed]",
      "text/plain": [
       "<Figure size 432x288 with 1 Axes>"
      ]
     },
     "metadata": {
      "needs_background": "light"
     },
     "output_type": "display_data"
    }
   ],
   "source": [
    " sns.boxplot(dataset)        # boxplot hepls finding the outliers in data "
   ]
  },
  {
   "cell_type": "markdown",
   "id": "0749c5de",
   "metadata": {},
   "source": [
    "# Five Number summary for finding the outliers"
   ]
  },
  {
   "cell_type": "code",
   "execution_count": 89,
   "id": "bb03726f",
   "metadata": {},
   "outputs": [
    {
     "data": {
      "text/plain": [
       "9.75"
      ]
     },
     "execution_count": 89,
     "metadata": {},
     "output_type": "execute_result"
    }
   ],
   "source": [
    "Q1=np.percentile(dataset,25)  # 25% of percentile of the dataset(1st quartile)\n",
    "Q1"
   ]
  },
  {
   "cell_type": "code",
   "execution_count": 90,
   "id": "3851ee2c",
   "metadata": {},
   "outputs": [
    {
     "data": {
      "text/plain": [
       "23.25"
      ]
     },
     "execution_count": 90,
     "metadata": {},
     "output_type": "execute_result"
    }
   ],
   "source": [
    "Q3=np.percentile(dataset,75)           # 75% of percentile of the dataset(3rd quartile)\n",
    "Q3"
   ]
  },
  {
   "cell_type": "code",
   "execution_count": 91,
   "id": "8b1064f4",
   "metadata": {},
   "outputs": [],
   "source": [
    "IQR=Q3-Q1      # interquartile range\n",
    "lower_fence=Q1-1.5*IQR\n",
    "upper_fence=Q3+1.5*IQR\n"
   ]
  },
  {
   "cell_type": "code",
   "execution_count": 92,
   "id": "590fc573",
   "metadata": {},
   "outputs": [
    {
     "data": {
      "text/plain": [
       "(-10.5, 1, 9.75, 17.0, 23.25, 100, 43.5)"
      ]
     },
     "execution_count": 92,
     "metadata": {},
     "output_type": "execute_result"
    }
   ],
   "source": [
    "# 5 number summary\n",
    "lower_fence,min(dataset),Q1,np.median(dataset),Q3,max(dataset),upper_fence  "
   ]
  },
  {
   "cell_type": "markdown",
   "id": "fc51555f",
   "metadata": {},
   "source": [
    "# measure of dispersion"
   ]
  },
  {
   "cell_type": "code",
   "execution_count": 93,
   "id": "55f695fb",
   "metadata": {},
   "outputs": [
    {
     "data": {
      "text/plain": [
       "352.606884057971"
      ]
     },
     "execution_count": 93,
     "metadata": {},
     "output_type": "execute_result"
    }
   ],
   "source": [
    "st.variance(dataset)    # return sample varience of the data\n"
   ]
  },
  {
   "cell_type": "code",
   "execution_count": 94,
   "id": "a67bf272",
   "metadata": {},
   "outputs": [
    {
     "data": {
      "text/plain": [
       "337.91493055555554"
      ]
     },
     "execution_count": 94,
     "metadata": {},
     "output_type": "execute_result"
    }
   ],
   "source": [
    "st.pvariance(dataset)  # return population varience of data population varience"
   ]
  },
  {
   "cell_type": "code",
   "execution_count": 95,
   "id": "b1efd106",
   "metadata": {},
   "outputs": [
    {
     "data": {
      "text/plain": [
       "337.9149305555556"
      ]
     },
     "execution_count": 95,
     "metadata": {},
     "output_type": "execute_result"
    }
   ],
   "source": [
    "np.var(dataset,axis=0)  # population varience"
   ]
  },
  {
   "cell_type": "code",
   "execution_count": 96,
   "id": "54a4de9e",
   "metadata": {},
   "outputs": [
    {
     "data": {
      "text/plain": [
       "18.382462581372376"
      ]
     },
     "execution_count": 96,
     "metadata": {},
     "output_type": "execute_result"
    }
   ],
   "source": [
    "math.sqrt(st.pvariance(dataset))            # return the standard deviation"
   ]
  },
  {
   "cell_type": "code",
   "execution_count": 97,
   "id": "f717a76f",
   "metadata": {},
   "outputs": [
    {
     "data": {
      "text/plain": [
       "337.91493055555554"
      ]
     },
     "execution_count": 97,
     "metadata": {},
     "output_type": "execute_result"
    }
   ],
   "source": [
    "# population varience \n",
    "def variance(data):\n",
    "    n=len(data)\n",
    "    #mean of data\n",
    "    mean=sum(data)/n\n",
    "    #varience of data \n",
    "    deviation=[(x-mean)**2 for x in data]\n",
    "    var=sum(deviation)/n\n",
    "    return var\n",
    "variance(dataset)\n",
    "    \n",
    "    "
   ]
  },
  {
   "cell_type": "markdown",
   "id": "c16b6ab1",
   "metadata": {},
   "source": [
    "# Histogram & PDF"
   ]
  },
  {
   "cell_type": "code",
   "execution_count": 98,
   "id": "0a6042ad",
   "metadata": {},
   "outputs": [
    {
     "data": {
      "text/plain": [
       "<AxesSubplot:ylabel='Count'>"
      ]
     },
     "execution_count": 98,
     "metadata": {},
     "output_type": "execute_result"
    },
    {
     "data": {
      "image/png": "[encoded data removed]",
      "text/plain": [
       "<Figure size 432x288 with 1 Axes>"
      ]
     },
     "metadata": {
      "needs_background": "light"
     },
     "output_type": "display_data"
    }
   ],
   "source": [
    "sns.histplot(dataset,kde=True) #compute a kernel density estimate to smooth the distribution and show on the plot "
   ]
  },
  {
   "cell_type": "markdown",
   "id": "0c8b87f7",
   "metadata": {},
   "source": [
    "# Working with 'Titanic' dataset\n",
    "\n"
   ]
  },
  {
   "cell_type": "code",
   "execution_count": 99,
   "id": "1810233e",
   "metadata": {},
   "outputs": [
    {
     "data": {
      "text/html": [
       "<div>\n",
       "<style scoped>\n",
       "    .dataframe tbody tr th:only-of-type {\n",
       "        vertical-align: middle;\n",
       "    }\n",
       "\n",
       "    .dataframe tbody tr th {\n",
       "        vertical-align: top;\n",
       "    }\n",
       "\n",
       "    .dataframe thead th {\n",
       "        text-align: right;\n",
       "    }\n",
       "</style>\n",
       "<table border=\"1\" class=\"dataframe\">\n",
       "  <thead>\n",
       "    <tr style=\"text-align: right;\">\n",
       "      <th></th>\n",
       "      <th>survived</th>\n",
       "      <th>pclass</th>\n",
       "      <th>sex</th>\n",
       "      <th>age</th>\n",
       "      <th>sibsp</th>\n",
       "      <th>parch</th>\n",
       "      <th>fare</th>\n",
       "      <th>embarked</th>\n",
       "      <th>class</th>\n",
       "      <th>who</th>\n",
       "      <th>adult_male</th>\n",
       "      <th>deck</th>\n",
       "      <th>embark_town</th>\n",
       "      <th>alive</th>\n",
       "      <th>alone</th>\n",
       "    </tr>\n",
       "  </thead>\n",
       "  <tbody>\n",
       "    <tr>\n",
       "      <th>0</th>\n",
       "      <td>0</td>\n",
       "      <td>3</td>\n",
       "      <td>male</td>\n",
       "      <td>22.0</td>\n",
       "      <td>1</td>\n",
       "      <td>0</td>\n",
       "      <td>7.2500</td>\n",
       "      <td>S</td>\n",
       "      <td>Third</td>\n",
       "      <td>man</td>\n",
       "      <td>True</td>\n",
       "      <td>NaN</td>\n",
       "      <td>Southampton</td>\n",
       "      <td>no</td>\n",
       "      <td>False</td>\n",
       "    </tr>\n",
       "    <tr>\n",
       "      <th>1</th>\n",
       "      <td>1</td>\n",
       "      <td>1</td>\n",
       "      <td>female</td>\n",
       "      <td>38.0</td>\n",
       "      <td>1</td>\n",
       "      <td>0</td>\n",
       "      <td>71.2833</td>\n",
       "      <td>C</td>\n",
       "      <td>First</td>\n",
       "      <td>woman</td>\n",
       "      <td>False</td>\n",
       "      <td>C</td>\n",
       "      <td>Cherbourg</td>\n",
       "      <td>yes</td>\n",
       "      <td>False</td>\n",
       "    </tr>\n",
       "    <tr>\n",
       "      <th>2</th>\n",
       "      <td>1</td>\n",
       "      <td>3</td>\n",
       "      <td>female</td>\n",
       "      <td>26.0</td>\n",
       "      <td>0</td>\n",
       "      <td>0</td>\n",
       "      <td>7.9250</td>\n",
       "      <td>S</td>\n",
       "      <td>Third</td>\n",
       "      <td>woman</td>\n",
       "      <td>False</td>\n",
       "      <td>NaN</td>\n",
       "      <td>Southampton</td>\n",
       "      <td>yes</td>\n",
       "      <td>True</td>\n",
       "    </tr>\n",
       "    <tr>\n",
       "      <th>3</th>\n",
       "      <td>1</td>\n",
       "      <td>1</td>\n",
       "      <td>female</td>\n",
       "      <td>35.0</td>\n",
       "      <td>1</td>\n",
       "      <td>0</td>\n",
       "      <td>53.1000</td>\n",
       "      <td>S</td>\n",
       "      <td>First</td>\n",
       "      <td>woman</td>\n",
       "      <td>False</td>\n",
       "      <td>C</td>\n",
       "      <td>Southampton</td>\n",
       "      <td>yes</td>\n",
       "      <td>False</td>\n",
       "    </tr>\n",
       "    <tr>\n",
       "      <th>4</th>\n",
       "      <td>0</td>\n",
       "      <td>3</td>\n",
       "      <td>male</td>\n",
       "      <td>35.0</td>\n",
       "      <td>0</td>\n",
       "      <td>0</td>\n",
       "      <td>8.0500</td>\n",
       "      <td>S</td>\n",
       "      <td>Third</td>\n",
       "      <td>man</td>\n",
       "      <td>True</td>\n",
       "      <td>NaN</td>\n",
       "      <td>Southampton</td>\n",
       "      <td>no</td>\n",
       "      <td>True</td>\n",
       "    </tr>\n",
       "    <tr>\n",
       "      <th>...</th>\n",
       "      <td>...</td>\n",
       "      <td>...</td>\n",
       "      <td>...</td>\n",
       "      <td>...</td>\n",
       "      <td>...</td>\n",
       "      <td>...</td>\n",
       "      <td>...</td>\n",
       "      <td>...</td>\n",
       "      <td>...</td>\n",
       "      <td>...</td>\n",
       "      <td>...</td>\n",
       "      <td>...</td>\n",
       "      <td>...</td>\n",
       "      <td>...</td>\n",
       "      <td>...</td>\n",
       "    </tr>\n",
       "    <tr>\n",
       "      <th>886</th>\n",
       "      <td>0</td>\n",
       "      <td>2</td>\n",
       "      <td>male</td>\n",
       "      <td>27.0</td>\n",
       "      <td>0</td>\n",
       "      <td>0</td>\n",
       "      <td>13.0000</td>\n",
       "      <td>S</td>\n",
       "      <td>Second</td>\n",
       "      <td>man</td>\n",
       "      <td>True</td>\n",
       "      <td>NaN</td>\n",
       "      <td>Southampton</td>\n",
       "      <td>no</td>\n",
       "      <td>True</td>\n",
       "    </tr>\n",
       "    <tr>\n",
       "      <th>887</th>\n",
       "      <td>1</td>\n",
       "      <td>1</td>\n",
       "      <td>female</td>\n",
       "      <td>19.0</td>\n",
       "      <td>0</td>\n",
       "      <td>0</td>\n",
       "      <td>30.0000</td>\n",
       "      <td>S</td>\n",
       "      <td>First</td>\n",
       "      <td>woman</td>\n",
       "      <td>False</td>\n",
       "      <td>B</td>\n",
       "      <td>Southampton</td>\n",
       "      <td>yes</td>\n",
       "      <td>True</td>\n",
       "    </tr>\n",
       "    <tr>\n",
       "      <th>888</th>\n",
       "      <td>0</td>\n",
       "      <td>3</td>\n",
       "      <td>female</td>\n",
       "      <td>NaN</td>\n",
       "      <td>1</td>\n",
       "      <td>2</td>\n",
       "      <td>23.4500</td>\n",
       "      <td>S</td>\n",
       "      <td>Third</td>\n",
       "      <td>woman</td>\n",
       "      <td>False</td>\n",
       "      <td>NaN</td>\n",
       "      <td>Southampton</td>\n",
       "      <td>no</td>\n",
       "      <td>False</td>\n",
       "    </tr>\n",
       "    <tr>\n",
       "      <th>889</th>\n",
       "      <td>1</td>\n",
       "      <td>1</td>\n",
       "      <td>male</td>\n",
       "      <td>26.0</td>\n",
       "      <td>0</td>\n",
       "      <td>0</td>\n",
       "      <td>30.0000</td>\n",
       "      <td>C</td>\n",
       "      <td>First</td>\n",
       "      <td>man</td>\n",
       "      <td>True</td>\n",
       "      <td>C</td>\n",
       "      <td>Cherbourg</td>\n",
       "      <td>yes</td>\n",
       "      <td>True</td>\n",
       "    </tr>\n",
       "    <tr>\n",
       "      <th>890</th>\n",
       "      <td>0</td>\n",
       "      <td>3</td>\n",
       "      <td>male</td>\n",
       "      <td>32.0</td>\n",
       "      <td>0</td>\n",
       "      <td>0</td>\n",
       "      <td>7.7500</td>\n",
       "      <td>Q</td>\n",
       "      <td>Third</td>\n",
       "      <td>man</td>\n",
       "      <td>True</td>\n",
       "      <td>NaN</td>\n",
       "      <td>Queenstown</td>\n",
       "      <td>no</td>\n",
       "      <td>True</td>\n",
       "    </tr>\n",
       "  </tbody>\n",
       "</table>\n",
       "<p>891 rows × 15 columns</p>\n",
       "</div>"
      ],
      "text/plain": [
       "     survived  pclass     sex   age  sibsp  parch     fare embarked   class  \\\n",
       "0           0       3    male  22.0      1      0   7.2500        S   Third   \n",
       "1           1       1  female  38.0      1      0  71.2833        C   First   \n",
       "2           1       3  female  26.0      0      0   7.9250        S   Third   \n",
       "3           1       1  female  35.0      1      0  53.1000        S   First   \n",
       "4           0       3    male  35.0      0      0   8.0500        S   Third   \n",
       "..        ...     ...     ...   ...    ...    ...      ...      ...     ...   \n",
       "886         0       2    male  27.0      0      0  13.0000        S  Second   \n",
       "887         1       1  female  19.0      0      0  30.0000        S   First   \n",
       "888         0       3  female   NaN      1      2  23.4500        S   Third   \n",
       "889         1       1    male  26.0      0      0  30.0000        C   First   \n",
       "890         0       3    male  32.0      0      0   7.7500        Q   Third   \n",
       "\n",
       "       who  adult_male deck  embark_town alive  alone  \n",
       "0      man        True  NaN  Southampton    no  False  \n",
       "1    woman       False    C    Cherbourg   yes  False  \n",
       "2    woman       False  NaN  Southampton   yes   True  \n",
       "3    woman       False    C  Southampton   yes  False  \n",
       "4      man        True  NaN  Southampton    no   True  \n",
       "..     ...         ...  ...          ...   ...    ...  \n",
       "886    man        True  NaN  Southampton    no   True  \n",
       "887  woman       False    B  Southampton   yes   True  \n",
       "888  woman       False  NaN  Southampton    no  False  \n",
       "889    man        True    C    Cherbourg   yes   True  \n",
       "890    man        True  NaN   Queenstown    no   True  \n",
       "\n",
       "[891 rows x 15 columns]"
      ]
     },
     "execution_count": 99,
     "metadata": {},
     "output_type": "execute_result"
    }
   ],
   "source": [
    "df=sns.load_dataset('titanic')   #load titanic data\n",
    "df"
   ]
  },
  {
   "cell_type": "code",
   "execution_count": 100,
   "id": "6519bd8d",
   "metadata": {},
   "outputs": [
    {
     "data": {
      "text/plain": [
       "869"
      ]
     },
     "execution_count": 100,
     "metadata": {},
     "output_type": "execute_result"
    }
   ],
   "source": [
    "df.isnull().sum().sum()    #null values in df"
   ]
  },
  {
   "cell_type": "code",
   "execution_count": 101,
   "id": "012b336f",
   "metadata": {},
   "outputs": [
    {
     "data": {
      "text/html": [
       "<div>\n",
       "<style scoped>\n",
       "    .dataframe tbody tr th:only-of-type {\n",
       "        vertical-align: middle;\n",
       "    }\n",
       "\n",
       "    .dataframe tbody tr th {\n",
       "        vertical-align: top;\n",
       "    }\n",
       "\n",
       "    .dataframe thead th {\n",
       "        text-align: right;\n",
       "    }\n",
       "</style>\n",
       "<table border=\"1\" class=\"dataframe\">\n",
       "  <thead>\n",
       "    <tr style=\"text-align: right;\">\n",
       "      <th></th>\n",
       "      <th>survived</th>\n",
       "      <th>pclass</th>\n",
       "      <th>sex</th>\n",
       "      <th>age</th>\n",
       "      <th>sibsp</th>\n",
       "      <th>parch</th>\n",
       "      <th>fare</th>\n",
       "      <th>embarked</th>\n",
       "      <th>class</th>\n",
       "      <th>who</th>\n",
       "      <th>adult_male</th>\n",
       "      <th>deck</th>\n",
       "      <th>embark_town</th>\n",
       "      <th>alive</th>\n",
       "      <th>alone</th>\n",
       "    </tr>\n",
       "  </thead>\n",
       "  <tbody>\n",
       "    <tr>\n",
       "      <th>1</th>\n",
       "      <td>1</td>\n",
       "      <td>1</td>\n",
       "      <td>female</td>\n",
       "      <td>38.0</td>\n",
       "      <td>1</td>\n",
       "      <td>0</td>\n",
       "      <td>71.2833</td>\n",
       "      <td>C</td>\n",
       "      <td>First</td>\n",
       "      <td>woman</td>\n",
       "      <td>False</td>\n",
       "      <td>C</td>\n",
       "      <td>Cherbourg</td>\n",
       "      <td>yes</td>\n",
       "      <td>False</td>\n",
       "    </tr>\n",
       "    <tr>\n",
       "      <th>3</th>\n",
       "      <td>1</td>\n",
       "      <td>1</td>\n",
       "      <td>female</td>\n",
       "      <td>35.0</td>\n",
       "      <td>1</td>\n",
       "      <td>0</td>\n",
       "      <td>53.1000</td>\n",
       "      <td>S</td>\n",
       "      <td>First</td>\n",
       "      <td>woman</td>\n",
       "      <td>False</td>\n",
       "      <td>C</td>\n",
       "      <td>Southampton</td>\n",
       "      <td>yes</td>\n",
       "      <td>False</td>\n",
       "    </tr>\n",
       "    <tr>\n",
       "      <th>6</th>\n",
       "      <td>0</td>\n",
       "      <td>1</td>\n",
       "      <td>male</td>\n",
       "      <td>54.0</td>\n",
       "      <td>0</td>\n",
       "      <td>0</td>\n",
       "      <td>51.8625</td>\n",
       "      <td>S</td>\n",
       "      <td>First</td>\n",
       "      <td>man</td>\n",
       "      <td>True</td>\n",
       "      <td>E</td>\n",
       "      <td>Southampton</td>\n",
       "      <td>no</td>\n",
       "      <td>True</td>\n",
       "    </tr>\n",
       "    <tr>\n",
       "      <th>10</th>\n",
       "      <td>1</td>\n",
       "      <td>3</td>\n",
       "      <td>female</td>\n",
       "      <td>4.0</td>\n",
       "      <td>1</td>\n",
       "      <td>1</td>\n",
       "      <td>16.7000</td>\n",
       "      <td>S</td>\n",
       "      <td>Third</td>\n",
       "      <td>child</td>\n",
       "      <td>False</td>\n",
       "      <td>G</td>\n",
       "      <td>Southampton</td>\n",
       "      <td>yes</td>\n",
       "      <td>False</td>\n",
       "    </tr>\n",
       "    <tr>\n",
       "      <th>11</th>\n",
       "      <td>1</td>\n",
       "      <td>1</td>\n",
       "      <td>female</td>\n",
       "      <td>58.0</td>\n",
       "      <td>0</td>\n",
       "      <td>0</td>\n",
       "      <td>26.5500</td>\n",
       "      <td>S</td>\n",
       "      <td>First</td>\n",
       "      <td>woman</td>\n",
       "      <td>False</td>\n",
       "      <td>C</td>\n",
       "      <td>Southampton</td>\n",
       "      <td>yes</td>\n",
       "      <td>True</td>\n",
       "    </tr>\n",
       "    <tr>\n",
       "      <th>...</th>\n",
       "      <td>...</td>\n",
       "      <td>...</td>\n",
       "      <td>...</td>\n",
       "      <td>...</td>\n",
       "      <td>...</td>\n",
       "      <td>...</td>\n",
       "      <td>...</td>\n",
       "      <td>...</td>\n",
       "      <td>...</td>\n",
       "      <td>...</td>\n",
       "      <td>...</td>\n",
       "      <td>...</td>\n",
       "      <td>...</td>\n",
       "      <td>...</td>\n",
       "      <td>...</td>\n",
       "    </tr>\n",
       "    <tr>\n",
       "      <th>871</th>\n",
       "      <td>1</td>\n",
       "      <td>1</td>\n",
       "      <td>female</td>\n",
       "      <td>47.0</td>\n",
       "      <td>1</td>\n",
       "      <td>1</td>\n",
       "      <td>52.5542</td>\n",
       "      <td>S</td>\n",
       "      <td>First</td>\n",
       "      <td>woman</td>\n",
       "      <td>False</td>\n",
       "      <td>D</td>\n",
       "      <td>Southampton</td>\n",
       "      <td>yes</td>\n",
       "      <td>False</td>\n",
       "    </tr>\n",
       "    <tr>\n",
       "      <th>872</th>\n",
       "      <td>0</td>\n",
       "      <td>1</td>\n",
       "      <td>male</td>\n",
       "      <td>33.0</td>\n",
       "      <td>0</td>\n",
       "      <td>0</td>\n",
       "      <td>5.0000</td>\n",
       "      <td>S</td>\n",
       "      <td>First</td>\n",
       "      <td>man</td>\n",
       "      <td>True</td>\n",
       "      <td>B</td>\n",
       "      <td>Southampton</td>\n",
       "      <td>no</td>\n",
       "      <td>True</td>\n",
       "    </tr>\n",
       "    <tr>\n",
       "      <th>879</th>\n",
       "      <td>1</td>\n",
       "      <td>1</td>\n",
       "      <td>female</td>\n",
       "      <td>56.0</td>\n",
       "      <td>0</td>\n",
       "      <td>1</td>\n",
       "      <td>83.1583</td>\n",
       "      <td>C</td>\n",
       "      <td>First</td>\n",
       "      <td>woman</td>\n",
       "      <td>False</td>\n",
       "      <td>C</td>\n",
       "      <td>Cherbourg</td>\n",
       "      <td>yes</td>\n",
       "      <td>False</td>\n",
       "    </tr>\n",
       "    <tr>\n",
       "      <th>887</th>\n",
       "      <td>1</td>\n",
       "      <td>1</td>\n",
       "      <td>female</td>\n",
       "      <td>19.0</td>\n",
       "      <td>0</td>\n",
       "      <td>0</td>\n",
       "      <td>30.0000</td>\n",
       "      <td>S</td>\n",
       "      <td>First</td>\n",
       "      <td>woman</td>\n",
       "      <td>False</td>\n",
       "      <td>B</td>\n",
       "      <td>Southampton</td>\n",
       "      <td>yes</td>\n",
       "      <td>True</td>\n",
       "    </tr>\n",
       "    <tr>\n",
       "      <th>889</th>\n",
       "      <td>1</td>\n",
       "      <td>1</td>\n",
       "      <td>male</td>\n",
       "      <td>26.0</td>\n",
       "      <td>0</td>\n",
       "      <td>0</td>\n",
       "      <td>30.0000</td>\n",
       "      <td>C</td>\n",
       "      <td>First</td>\n",
       "      <td>man</td>\n",
       "      <td>True</td>\n",
       "      <td>C</td>\n",
       "      <td>Cherbourg</td>\n",
       "      <td>yes</td>\n",
       "      <td>True</td>\n",
       "    </tr>\n",
       "  </tbody>\n",
       "</table>\n",
       "<p>182 rows × 15 columns</p>\n",
       "</div>"
      ],
      "text/plain": [
       "     survived  pclass     sex   age  sibsp  parch     fare embarked  class  \\\n",
       "1           1       1  female  38.0      1      0  71.2833        C  First   \n",
       "3           1       1  female  35.0      1      0  53.1000        S  First   \n",
       "6           0       1    male  54.0      0      0  51.8625        S  First   \n",
       "10          1       3  female   4.0      1      1  16.7000        S  Third   \n",
       "11          1       1  female  58.0      0      0  26.5500        S  First   \n",
       "..        ...     ...     ...   ...    ...    ...      ...      ...    ...   \n",
       "871         1       1  female  47.0      1      1  52.5542        S  First   \n",
       "872         0       1    male  33.0      0      0   5.0000        S  First   \n",
       "879         1       1  female  56.0      0      1  83.1583        C  First   \n",
       "887         1       1  female  19.0      0      0  30.0000        S  First   \n",
       "889         1       1    male  26.0      0      0  30.0000        C  First   \n",
       "\n",
       "       who  adult_male deck  embark_town alive  alone  \n",
       "1    woman       False    C    Cherbourg   yes  False  \n",
       "3    woman       False    C  Southampton   yes  False  \n",
       "6      man        True    E  Southampton    no   True  \n",
       "10   child       False    G  Southampton   yes  False  \n",
       "11   woman       False    C  Southampton   yes   True  \n",
       "..     ...         ...  ...          ...   ...    ...  \n",
       "871  woman       False    D  Southampton   yes  False  \n",
       "872    man        True    B  Southampton    no   True  \n",
       "879  woman       False    C    Cherbourg   yes  False  \n",
       "887  woman       False    B  Southampton   yes   True  \n",
       "889    man        True    C    Cherbourg   yes   True  \n",
       "\n",
       "[182 rows x 15 columns]"
      ]
     },
     "execution_count": 101,
     "metadata": {},
     "output_type": "execute_result"
    }
   ],
   "source": [
    "df1=df.dropna() #drop na values from the data (but it is not a proper way i just work)\n",
    "df1"
   ]
  },
  {
   "cell_type": "code",
   "execution_count": 102,
   "id": "d5c2b4a7",
   "metadata": {},
   "outputs": [
    {
     "data": {
      "text/plain": [
       "0"
      ]
     },
     "execution_count": 102,
     "metadata": {},
     "output_type": "execute_result"
    }
   ],
   "source": [
    "df1.isnull().sum().sum() "
   ]
  },
  {
   "cell_type": "code",
   "execution_count": 103,
   "id": "19edb117",
   "metadata": {},
   "outputs": [
    {
     "data": {
      "text/plain": [
       "<AxesSubplot:xlabel='fare', ylabel='Count'>"
      ]
     },
     "execution_count": 103,
     "metadata": {},
     "output_type": "execute_result"
    },
    {
     "data": {
      "image/png": "[encoded data removed]",
      "text/plain": [
       "<Figure size 432x288 with 1 Axes>"
      ]
     },
     "metadata": {
      "needs_background": "light"
     },
     "output_type": "display_data"
    }
   ],
   "source": [
    "sns.histplot(df['fare'],kde=True)"
   ]
  },
  {
   "cell_type": "code",
   "execution_count": 104,
   "id": "4b001134",
   "metadata": {},
   "outputs": [
    {
     "data": {
      "text/plain": [
       "<AxesSubplot:ylabel='Count'>"
      ]
     },
     "execution_count": 104,
     "metadata": {},
     "output_type": "execute_result"
    },
    {
     "data": {
      "image/png": "[encoded data removed]",
      "text/plain": [
       "<Figure size 1800x720 with 1 Axes>"
      ]
     },
     "metadata": {
      "needs_background": "light"
     },
     "output_type": "display_data"
    }
   ],
   "source": [
    "plt.figure(figsize=(25,10))\n",
    "sns.histplot(df,kde=True)"
   ]
  },
  {
   "cell_type": "markdown",
   "id": "48221f29",
   "metadata": {},
   "source": [
    "# Creat a Normal distribution dataset"
   ]
  },
  {
   "cell_type": "code",
   "execution_count": 105,
   "id": "9d3bf3c6",
   "metadata": {},
   "outputs": [],
   "source": [
    "nd=np.random.normal(1,0.5,1000)  # mean 1, std .5, no of values=1000"
   ]
  },
  {
   "cell_type": "code",
   "execution_count": 106,
   "id": "8c71e3a9",
   "metadata": {},
   "outputs": [
    {
     "data": {
      "text/plain": [
       "<AxesSubplot:ylabel='Count'>"
      ]
     },
     "execution_count": 106,
     "metadata": {},
     "output_type": "execute_result"
    },
    {
     "data": {
      "image/png": "[encoded data removed]",
      "text/plain": [
       "<Figure size 432x288 with 1 Axes>"
      ]
     },
     "metadata": {
      "needs_background": "light"
     },
     "output_type": "display_data"
    }
   ],
   "source": [
    "sns.histplot(nd,kde=True)  # normal distribution plot\n"
   ]
  },
  {
   "cell_type": "code",
   "execution_count": 107,
   "id": "d799663c",
   "metadata": {},
   "outputs": [
    {
     "data": {
      "text/plain": [
       "<AxesSubplot:ylabel='Count'>"
      ]
     },
     "execution_count": 107,
     "metadata": {},
     "output_type": "execute_result"
    },
    {
     "data": {
      "image/png": "[encoded data removed]",
      "text/plain": [
       "<Figure size 432x288 with 1 Axes>"
      ]
     },
     "metadata": {
      "needs_background": "light"
     },
     "output_type": "display_data"
    }
   ],
   "source": [
    "sns.histplot(np.exp(nd),kde=True)  # normal distribution convert into lognormal distribution \n"
   ]
  },
  {
   "cell_type": "code",
   "execution_count": 108,
   "id": "78b2525b",
   "metadata": {},
   "outputs": [],
   "source": [
    "lnd=np.exp(nd)"
   ]
  },
  {
   "cell_type": "code",
   "execution_count": 109,
   "id": "a42e6b53",
   "metadata": {},
   "outputs": [
    {
     "data": {
      "text/plain": [
       "<AxesSubplot:ylabel='Count'>"
      ]
     },
     "execution_count": 109,
     "metadata": {},
     "output_type": "execute_result"
    },
    {
     "data": {
      "image/png": "[encoded data removed]",
      "text/plain": [
       "<Figure size 432x288 with 1 Axes>"
      ]
     },
     "metadata": {
      "needs_background": "light"
     },
     "output_type": "display_data"
    }
   ],
   "source": [
    "sns.histplot(np.log(lnd),kde=True)    # lognormal distribution convert into normal distribution "
   ]
  },
  {
   "cell_type": "code",
   "execution_count": 110,
   "id": "fceb2108",
   "metadata": {},
   "outputs": [
    {
     "data": {
      "text/plain": [
       "array([168.17548703,  13.98748008,  51.32728738,  73.18942197,\n",
       "        57.48266454,  14.58882744,  13.87588109,  65.896135  ,\n",
       "        25.66974415,  18.36995074,   3.8086528 ,  45.73099284,\n",
       "         7.50359618,  29.14710172,  86.09491279,  24.17870402,\n",
       "         2.77031697,  51.89195558,   9.48085055,   7.38463552,\n",
       "         7.20306459,  25.17440957,   3.83354238,  18.20555149,\n",
       "       105.98556152,   8.66259106,   5.57219628,  96.26762843,\n",
       "        32.1306059 ,  19.12632027,   2.27340206,  19.63750687,\n",
       "        56.13573289,  33.14933314,  12.76617396,  18.89787364,\n",
       "        20.36378223,  16.41396739,  42.18144945,  15.07208784,\n",
       "         5.51760352,  11.07452805,  92.4952617 ,   2.54104879,\n",
       "        14.88131009,  44.30041446,  24.53207257,  26.70667758,\n",
       "        11.93441954,  19.34112019,  11.38285639,  43.77676396,\n",
       "        46.60764095,   8.04247876,  23.17308025,  37.95588495,\n",
       "        10.06108008,  76.17423547,  19.49917879,  14.18369886,\n",
       "        29.25436297,  19.72418037,  12.40843897,   9.73369037,\n",
       "        54.13134426,  11.13254916,  21.70062796,   9.47195042,\n",
       "        18.67291943,   7.76936176,  28.30137542,   8.83329392,\n",
       "         4.59510078,   7.90930383,  48.152169  ,  24.05553359,\n",
       "        36.18145166,   8.14020608,   2.86181191,  56.50617095,\n",
       "       102.0188752 ,  20.08264525,  17.87870391,  77.3932287 ,\n",
       "        16.57155514,  17.47784421,  10.40597653,  93.50909637,\n",
       "        72.75831312,  27.6408051 ,  29.69785629,  18.46944712,\n",
       "        13.89236882,   7.74850055,  56.85853238,   5.18064909,\n",
       "        13.49390937,   7.85915695, 133.86439695,  68.91587181,\n",
       "        19.78385788,  87.46536814,  19.08828538,   9.06491741,\n",
       "        10.2356458 ,  39.59550191,   8.51917322,  29.50140407,\n",
       "         7.8384171 ,  31.39471205,  12.94159042,  39.89276627,\n",
       "        52.66462068,   3.63043969,   1.8635913 ,   7.40341639,\n",
       "        27.11763256,  14.73755874,  62.28482968,  97.19368235,\n",
       "         4.91275725,   3.64048038,  25.33541179,   6.71228402,\n",
       "         5.86966937,  26.1813841 , 103.06911169,  39.92035836,\n",
       "       113.3040649 ,  82.6009139 , 148.49457174,  25.451457  ,\n",
       "        26.17174487,  71.86135736,   6.44465242,   2.81022743,\n",
       "        55.22192067,   7.30448752,   8.11841597,  38.40000899,\n",
       "        13.19734448,  21.80682216,  15.56912373,  46.9666878 ,\n",
       "        26.83273833, 220.51543325,  11.11405186,  85.30526109,\n",
       "       233.24337612,  74.58903122,  36.01841527,  45.46304944,\n",
       "         4.64131521,  21.82503358,  97.42250901,  78.97837199,\n",
       "         2.99724353,  12.98297401,  17.480019  ,   2.55619521,\n",
       "        21.25979124,  18.70441187,  55.1460186 ,  66.58763635,\n",
       "        65.17759443,  29.83998123,   8.18575095,  16.38010675,\n",
       "        14.47459656,  12.71918893,  46.57648021,   9.77515276,\n",
       "        14.64324313,  26.08014738, 131.81522602,  25.39853819,\n",
       "        34.87238527,  11.36636016, 104.10926617,  57.35532225,\n",
       "        30.27985491,  16.81350187, 171.06425839,  33.6781744 ,\n",
       "        22.70840996,   9.28803942,   4.30052473,  11.86664691,\n",
       "       164.35203559,  40.75006783,  54.13708273,   2.48053077,\n",
       "         3.25846115, 100.88589291,  27.37585882,  36.68277872,\n",
       "        27.92974973,   9.17887571,  11.77282106,   6.47987829,\n",
       "        81.99449677,  10.21862748,  28.46409434,  24.2611409 ,\n",
       "        31.50125881,  14.59999048,  47.04169369,  17.24098054,\n",
       "         4.82043677,  66.65695128,   8.33259632,  13.71873387,\n",
       "         9.66526601,  51.3784394 ,  20.99664289,   8.221842  ,\n",
       "        28.85131079,  15.30995847,   8.58408723,  27.61072319,\n",
       "        14.87257121,   9.06570369,  33.49608146,  33.12538756,\n",
       "         5.40642378, 137.31038071,   3.88704495,   9.93788056,\n",
       "        25.35322799,   7.54565566,  51.25324769,   6.85618496,\n",
       "        22.27835826, 240.48859528,  39.31230194,  41.50162222,\n",
       "        40.87271661,   4.43317745,  82.34398565,  17.76967162,\n",
       "        21.35387692,   4.98338604,  82.20026681,  11.1124377 ,\n",
       "         3.05560904, 186.92171012,  12.63730925,  11.10029767,\n",
       "        36.92544044,  46.50290373,  37.46791368,   7.43489505,\n",
       "        14.23587773,  25.20252267,  10.30353813,   4.85505081,\n",
       "       247.19864746,  16.22501239,  12.99072919,  17.24746434,\n",
       "        23.70623851,   3.32612201,  45.38392117,  15.85559118,\n",
       "        77.84991473,  22.94988675,  37.1279176 ,  23.17414167,\n",
       "        83.69197814,   7.86017217,  11.66930952,  11.96451776,\n",
       "        57.77403974,   7.1432391 ,  74.1234089 ,  27.52626056,\n",
       "        12.78400235,  11.63689247,  22.42670656,  18.7143374 ,\n",
       "        24.71512043,  18.70175759,   3.14011144,   2.23006397,\n",
       "        44.10176658,  12.06346533, 173.40878047,  16.21809764,\n",
       "        55.901951  ,  18.79419612,   9.2980645 ,  31.70089617,\n",
       "         9.190021  ,  16.14189576,  24.30416119,  54.81884298,\n",
       "        93.19105546,  11.02095438,  27.04223308,  13.72642953,\n",
       "        32.32331795,   7.06100958,  11.57839333,   8.44255938,\n",
       "        46.21248678,  44.8301294 ,  51.69821702,  15.10926329,\n",
       "        49.40181793,  20.24427684,   3.17731341,  34.04510604,\n",
       "        36.74060441,   5.20860304,  11.23236377,  10.29306659,\n",
       "       128.75635425,  45.44203298,  37.17466135,  25.78858273,\n",
       "        11.8269089 ,   1.7036711 ,  21.00325044,  17.58592995,\n",
       "        28.05873387,   3.98904879,  36.78456038,   7.84466396,\n",
       "         6.09634994,  92.50759113,  22.49908872,   4.99974352,\n",
       "        11.633191  ,  17.24134358,   2.98362589,  17.03722933,\n",
       "        66.47379332,   8.45655422,   2.42187902,  29.64494056,\n",
       "        11.6963811 ,  46.22468986,   2.93248801,  12.26174377,\n",
       "       109.32544449,   7.42073013,  17.6597886 ,  22.22253012,\n",
       "        43.7409606 ,  85.79710631,   4.07646717,  25.25733995,\n",
       "       379.00052835,  10.41608278,  17.46438918,  54.71395961,\n",
       "        14.05513902,   7.81626344,  22.79066166, 234.7429355 ,\n",
       "         1.42311308,  16.28646129,   3.65935984,  69.15280247,\n",
       "         2.4709944 ,  80.77799596,   5.07157148,  26.29106254,\n",
       "        50.94089457,  14.13963959,   6.44910057,  37.16028887,\n",
       "        43.48186809,   8.10515839,   7.22192479,  12.4060678 ,\n",
       "        17.66249484,  19.84959759,  31.28058979,  19.16535948,\n",
       "        18.44453457,   3.32117965,  22.00663104,  22.45467995,\n",
       "         8.03081025,  16.45846363,   9.3607041 ,  37.50247549,\n",
       "       211.18883109,  22.21642541,   9.54503797,  32.27990021,\n",
       "        12.78096129,   2.17837008,  10.83655991,  54.5860058 ,\n",
       "        23.49629761,   2.78058443,   6.06107966,  14.94362604,\n",
       "        71.13786771,  12.24686629,  36.75025132, 137.86183069,\n",
       "        38.20314001,  28.0406102 ,   4.51714934,   6.85111406,\n",
       "        36.89082634,  11.22105359,  61.04351494,   6.80089986,\n",
       "        41.88669625,  30.77742488,   4.67551612,  43.49042044,\n",
       "        21.38979627,  49.54810745,  20.72317489,  26.92461982,\n",
       "        38.43149476,  23.74461309,  87.14499366,  51.42240599,\n",
       "         6.34925078,  20.98489007,   9.81534147,  15.64025945,\n",
       "        11.90603556,  20.91110571,   8.35414599,  19.8158676 ,\n",
       "        23.60121219,   9.45563314,  39.89039782,  29.28020462,\n",
       "        14.43137769,  36.33142692,  16.44317043,  37.4772157 ,\n",
       "       231.06062639,   7.67489556,   6.21955344,   8.2832458 ,\n",
       "        26.8683673 ,  16.42141843,  14.65067763,  57.58957015,\n",
       "        18.3015161 ,  41.94498928,   3.81617536,  10.4177216 ,\n",
       "         5.28921595,   9.82842173,   3.76982707,   5.65593059,\n",
       "         6.38910528,  28.47698031,  12.98211663,  96.02644751,\n",
       "        34.14534668,  18.19781534,  19.36824486,  18.53141713,\n",
       "        23.26065876,   5.12063135,  31.58755727,  22.11309555,\n",
       "         9.9313602 ,  10.5257828 ,   9.60489096,  23.42985694,\n",
       "        46.0995252 ,  26.85677791,   5.32746428,  11.86015569,\n",
       "        49.63467373,  19.40642172,  14.97419216,  18.82592815,\n",
       "         8.64242519,  18.77028432,  64.68201459,   9.08863343,\n",
       "        24.38939445, 253.10149016,  11.33958638,  20.40545823,\n",
       "        56.53043552,  66.10330924,  17.82211797,   7.29770641,\n",
       "        14.46093745,  44.89661066,  57.44061314,  18.11263391,\n",
       "        65.99530003,  20.88454355,   7.17317549,  33.19894745,\n",
       "        33.78934115,  11.68363279, 124.44676613,  18.00470233,\n",
       "        45.26639337,  43.10394009,   4.33051321,  59.84353781,\n",
       "        12.49134673,   5.89161432,  25.34678403,  47.21683269,\n",
       "        27.96789688,  40.31432168,  78.68740879,  15.95870917,\n",
       "         6.37049991, 143.40597763,  24.74071517, 122.52642887,\n",
       "        48.91500336,  45.92138069,  12.18242759, 149.43726043,\n",
       "        12.20284536,  60.34738889,   9.97362084,   8.40544939,\n",
       "        30.15517849, 158.59882495,  11.87445323,  76.73763777,\n",
       "        39.85065849,   4.41561946,  12.17236555,  39.00026421,\n",
       "         5.34763529,   5.26777535,  23.13504118,   6.86715768,\n",
       "        17.11899231,   4.62647727,   5.38713909,  12.38915383,\n",
       "         5.16849141,   1.60405103,  55.79094218,  10.6509585 ,\n",
       "        64.83100165,  21.07298321,  10.93760924, 341.62673641,\n",
       "        59.38259088,  46.14240125,  34.94146502,  11.1582923 ,\n",
       "         8.74987224,   6.83403748,  39.0601843 , 156.99857598,\n",
       "        72.79825051,  10.79110593,  15.45593941,  57.50405389,\n",
       "        17.15435386,  39.0069582 ,  65.95201054, 187.63938219,\n",
       "        35.20507235,  16.10695534,   3.92992433,  16.2272475 ,\n",
       "        32.57870424,   6.41256386,   9.79245497,   3.20718877,\n",
       "         2.71115856,  27.57910162,   9.53293975,  21.89563402,\n",
       "         4.98765125,   6.08731399,  21.69404588,  92.36128268,\n",
       "        17.91802696,  35.64488887,  15.34461614,  12.59694187,\n",
       "         3.98364389,  40.67193215,   6.36439358,  16.21300977,\n",
       "         6.82289352,   4.19041111,  29.57242452,  19.16859627,\n",
       "        22.56404111,   3.29935772,  19.07192145,  35.16862812,\n",
       "        23.08142322,  89.4738458 ,   8.20777274,   1.48950153,\n",
       "        43.19852771,   3.45324535,   5.16943853,  23.16067487,\n",
       "        70.77703944,  15.00420852,   8.95866708,  16.44044954,\n",
       "         9.84907916,  20.77555027,  10.79566603,   8.21775494,\n",
       "        51.32835021, 257.4642323 ,   5.33298834,   9.67270207,\n",
       "        46.36849072,  19.43975989,  14.61819112,  36.55400054,\n",
       "        30.38722015,  89.03223733,  38.18428491,  51.68974393,\n",
       "        54.0114232 ,  64.98407756,   2.59220247,   9.84149026,\n",
       "        18.20632084,   9.93795557,   6.41748142,  34.89023504,\n",
       "        44.76487393,  27.04423545,   8.74226271,   2.93470464,\n",
       "       156.31342863,  10.80777662,  22.16586976,   4.0593647 ,\n",
       "        11.48950014,  23.70587738,  15.4018666 ,  17.7359778 ,\n",
       "        21.0292898 ,  41.21430409,  36.71683709,   6.76940402,\n",
       "        41.26269439,  18.82940058,  13.35199618,   6.29847806,\n",
       "        13.8544406 ,  14.55066769,  13.84564055,  23.13444844,\n",
       "        40.09558661,   4.73939778,  27.32356881,   8.54121819,\n",
       "        17.296432  ,  45.20218193,  10.31822551,  11.68752412,\n",
       "        31.58840461,   6.97367324,  11.91824236,  52.40086164,\n",
       "        68.96455179,  40.0535345 ,  32.77480424,  33.91257974,\n",
       "        60.42016395, 120.53569375,   5.66042391,  28.73455406,\n",
       "         4.19969598,   6.09442848,  70.8360035 ,   9.75661369,\n",
       "        47.78934336, 153.74047747,  20.93967482,  14.37833351,\n",
       "       111.44532041,  30.10183725,  22.69182424,  17.67817897,\n",
       "        17.25922689,  81.44159179,  18.04370566,   8.13666269,\n",
       "        11.70682673,  24.71455808,  28.96986729,  11.18877471,\n",
       "        25.85674754,  62.14297897,  74.11221069,  12.51293274,\n",
       "        10.97509601,  18.65927938,  26.98901214,   4.48990905,\n",
       "        96.89893391,  48.49728322,  19.58963649,  15.9159012 ,\n",
       "        34.74765506,   7.91800835,  44.25482178,  24.85399174,\n",
       "        11.09348327,  20.78105864,  47.18453686,   8.789653  ,\n",
       "        11.19762015,  47.18853236,   3.61818468,   2.54059137,\n",
       "         9.72130071,  53.52771333,   9.36849389,   7.6919145 ,\n",
       "         8.16175343,  26.2904923 ,   4.7947977 ,   4.20588612,\n",
       "        22.82631164,   3.54474116,   8.48348758,   4.79547972,\n",
       "        39.6363075 ,  12.41045087,  91.41716862,  25.10691641,\n",
       "         5.13929537,  19.5973397 ,   3.6196807 ,   8.30651343,\n",
       "        55.73597896,  18.86952836,  23.72083443,  23.62083125,\n",
       "        24.70796772,  30.90741153,  19.58182597,  14.68839386,\n",
       "        15.29127833,  15.8667609 ,  11.64597713,  20.44556564,\n",
       "        91.56033974,  60.58684476,  40.61564227,   5.92944427,\n",
       "        75.51999028, 121.56133183,  38.95565434,  38.59218816,\n",
       "         7.52348214,  26.0164141 ,  34.61860547,  23.40206408,\n",
       "        11.39327103,  40.4489796 ,   3.22639283,  43.59200609,\n",
       "        32.41955827,  62.42906936,  37.2279469 ,   4.47112427,\n",
       "        10.16101651,  23.52701648,  38.54860161,  57.59107335,\n",
       "       246.94840262,  12.47343052,  12.22882448,  96.4507704 ,\n",
       "        37.46574431,   7.95104632,  17.32710514,   3.87258257,\n",
       "        23.99374486,  12.35882894,   6.60628548,   6.99956606,\n",
       "         9.72653082,  39.1248416 ,   5.63555103,   3.37637549,\n",
       "        76.80000603,  27.32887186,   2.90989758,  34.60262654,\n",
       "        12.24101994,  13.70393599,  16.16965234,  23.55504452,\n",
       "       170.07236126,  21.93576623,  23.47309709,   4.22820287,\n",
       "         6.96460075,  62.09633004,  31.13448166,   7.09601766,\n",
       "        37.43001776,  24.54441393,  34.59641222,  21.10224503,\n",
       "        67.60339575,  10.66176494,  23.36734403,  61.31722281,\n",
       "       506.38042704,  35.11229653,   8.08719229,  25.80247766,\n",
       "        15.42301846,   5.07052336,  26.841373  ,  35.91340368,\n",
       "         7.49755869,  19.01064714,   5.63185783,  35.22787958,\n",
       "        21.19104913,  45.39652165, 133.64875434,   5.78318561,\n",
       "        26.60525923,   3.20354507,  10.21577861,   3.60999177,\n",
       "        25.02897435,  14.016449  ,   6.37376279,  22.45787365,\n",
       "        23.37540103,  43.38764868,  23.54968043,  33.68166047,\n",
       "         1.18303448,  37.22498014,  21.03698699,  43.83184006,\n",
       "         9.1451681 ,   2.1628107 ,  44.75900804,  33.20140977,\n",
       "        27.12755995,   9.92997083,   4.68081451,  14.21493406,\n",
       "        42.29305463,  71.9757349 ,   4.72926748,  13.28848475,\n",
       "        32.39075582,   8.09355863,  43.55359396,  35.43976271,\n",
       "        76.52051608,   8.45365834,  46.17083483,  69.80603619,\n",
       "        12.49731566,  28.57943367,  31.67344207,  29.90227535,\n",
       "       245.34112976,  72.99811203,   2.62062358, 135.81207808,\n",
       "       171.00986763,  66.26918296,   3.85611909,  18.44215239,\n",
       "        35.68210294,  11.82356524,  29.5284058 ,  13.36300227,\n",
       "        28.23998168,   6.90577514,  84.52725234,   7.38079489,\n",
       "        15.09372015,   5.50436713,  15.4310433 ,  35.21974474,\n",
       "        37.34608222,  16.84040799,  11.74775996, 114.90994221,\n",
       "         2.38974238,  10.23353975,  30.37778017,  28.34460797,\n",
       "       142.41156776,   1.21680851,   9.67983646,  36.41323522,\n",
       "        11.71791095,  13.84156393,  64.60174782,  25.97388819,\n",
       "        35.38573947,  19.22712526,  15.04855266, 355.85905038,\n",
       "        19.33207139,   6.04880477,   5.27265471,  42.84403004,\n",
       "        10.58480166,  35.1274518 ,  15.94834392,  26.52449968,\n",
       "         9.07622713,  81.35340103,  10.08425278,   5.60391049,\n",
       "        31.24254516,  12.43197893,  50.12021381,   6.87980144,\n",
       "        44.64335052,   6.7607758 ,  25.53819939,  10.69187224,\n",
       "        14.6361464 ,  25.43255171,  23.02459367,   8.69736476,\n",
       "        13.97613908,   7.26192838,  30.04589752,  19.51024616,\n",
       "        19.26451399,  32.7810451 ,   5.40047297,   9.09688581,\n",
       "        17.12843739,  59.13086664,  23.32562915, 271.67292633,\n",
       "        48.87352691,  16.21542103,  15.52403871,   5.04572962,\n",
       "        43.01412597,  21.75005567,   5.83317246,  22.77175271,\n",
       "        29.70274633,  76.24896358,  41.01003709, 132.71069845,\n",
       "        27.00535881,  17.35016361,  15.79396675,   9.75269594,\n",
       "        19.84257782,  53.30297831,  81.68817453,   7.95375863,\n",
       "        61.19988917,  25.15383   ,   4.72062267,   7.39309447,\n",
       "        14.23706702,  55.6534873 ,  13.30880824,  15.4400415 ,\n",
       "        25.62477767,  17.2382134 ,  68.27798509, 151.64237287,\n",
       "        14.43014325,  40.94369776,  54.13748368,   6.64587681,\n",
       "        91.32240266,   9.66959843,   2.58920172, 246.19788496,\n",
       "        20.24932132,  40.87731686,  78.33828372,  59.24129931,\n",
       "        27.12593491,   5.10204531,  21.46028875,  12.45042408])"
      ]
     },
     "execution_count": 110,
     "metadata": {},
     "output_type": "execute_result"
    }
   ],
   "source": [
    "lognormal=np.random.lognormal(3,1,1000)\n",
    "lognormal"
   ]
  },
  {
   "cell_type": "code",
   "execution_count": 111,
   "id": "20773e23",
   "metadata": {},
   "outputs": [
    {
     "data": {
      "text/plain": [
       "<AxesSubplot:ylabel='Count'>"
      ]
     },
     "execution_count": 111,
     "metadata": {},
     "output_type": "execute_result"
    },
    {
     "data": {
      "image/png": "[encoded data removed]",
      "text/plain": [
       "<Figure size 432x288 with 1 Axes>"
      ]
     },
     "metadata": {
      "needs_background": "light"
     },
     "output_type": "display_data"
    }
   ],
   "source": [
    "sns.histplot(lognormal,kde=True)   # lognormal distribution "
   ]
  },
  {
   "cell_type": "markdown",
   "id": "9592b55d",
   "metadata": {},
   "source": [
    "# person & spearman rank correlation\n"
   ]
  },
  {
   "cell_type": "code",
   "execution_count": 112,
   "id": "367a83cb",
   "metadata": {},
   "outputs": [
    {
     "data": {
      "text/html": [
       "<div>\n",
       "<style scoped>\n",
       "    .dataframe tbody tr th:only-of-type {\n",
       "        vertical-align: middle;\n",
       "    }\n",
       "\n",
       "    .dataframe tbody tr th {\n",
       "        vertical-align: top;\n",
       "    }\n",
       "\n",
       "    .dataframe thead th {\n",
       "        text-align: right;\n",
       "    }\n",
       "</style>\n",
       "<table border=\"1\" class=\"dataframe\">\n",
       "  <thead>\n",
       "    <tr style=\"text-align: right;\">\n",
       "      <th></th>\n",
       "      <th>sepal_length</th>\n",
       "      <th>sepal_width</th>\n",
       "      <th>petal_length</th>\n",
       "      <th>petal_width</th>\n",
       "      <th>species</th>\n",
       "    </tr>\n",
       "  </thead>\n",
       "  <tbody>\n",
       "    <tr>\n",
       "      <th>0</th>\n",
       "      <td>5.1</td>\n",
       "      <td>3.5</td>\n",
       "      <td>1.4</td>\n",
       "      <td>0.2</td>\n",
       "      <td>setosa</td>\n",
       "    </tr>\n",
       "    <tr>\n",
       "      <th>1</th>\n",
       "      <td>4.9</td>\n",
       "      <td>3.0</td>\n",
       "      <td>1.4</td>\n",
       "      <td>0.2</td>\n",
       "      <td>setosa</td>\n",
       "    </tr>\n",
       "    <tr>\n",
       "      <th>2</th>\n",
       "      <td>4.7</td>\n",
       "      <td>3.2</td>\n",
       "      <td>1.3</td>\n",
       "      <td>0.2</td>\n",
       "      <td>setosa</td>\n",
       "    </tr>\n",
       "    <tr>\n",
       "      <th>3</th>\n",
       "      <td>4.6</td>\n",
       "      <td>3.1</td>\n",
       "      <td>1.5</td>\n",
       "      <td>0.2</td>\n",
       "      <td>setosa</td>\n",
       "    </tr>\n",
       "    <tr>\n",
       "      <th>4</th>\n",
       "      <td>5.0</td>\n",
       "      <td>3.6</td>\n",
       "      <td>1.4</td>\n",
       "      <td>0.2</td>\n",
       "      <td>setosa</td>\n",
       "    </tr>\n",
       "    <tr>\n",
       "      <th>...</th>\n",
       "      <td>...</td>\n",
       "      <td>...</td>\n",
       "      <td>...</td>\n",
       "      <td>...</td>\n",
       "      <td>...</td>\n",
       "    </tr>\n",
       "    <tr>\n",
       "      <th>145</th>\n",
       "      <td>6.7</td>\n",
       "      <td>3.0</td>\n",
       "      <td>5.2</td>\n",
       "      <td>2.3</td>\n",
       "      <td>virginica</td>\n",
       "    </tr>\n",
       "    <tr>\n",
       "      <th>146</th>\n",
       "      <td>6.3</td>\n",
       "      <td>2.5</td>\n",
       "      <td>5.0</td>\n",
       "      <td>1.9</td>\n",
       "      <td>virginica</td>\n",
       "    </tr>\n",
       "    <tr>\n",
       "      <th>147</th>\n",
       "      <td>6.5</td>\n",
       "      <td>3.0</td>\n",
       "      <td>5.2</td>\n",
       "      <td>2.0</td>\n",
       "      <td>virginica</td>\n",
       "    </tr>\n",
       "    <tr>\n",
       "      <th>148</th>\n",
       "      <td>6.2</td>\n",
       "      <td>3.4</td>\n",
       "      <td>5.4</td>\n",
       "      <td>2.3</td>\n",
       "      <td>virginica</td>\n",
       "    </tr>\n",
       "    <tr>\n",
       "      <th>149</th>\n",
       "      <td>5.9</td>\n",
       "      <td>3.0</td>\n",
       "      <td>5.1</td>\n",
       "      <td>1.8</td>\n",
       "      <td>virginica</td>\n",
       "    </tr>\n",
       "  </tbody>\n",
       "</table>\n",
       "<p>150 rows × 5 columns</p>\n",
       "</div>"
      ],
      "text/plain": [
       "     sepal_length  sepal_width  petal_length  petal_width    species\n",
       "0             5.1          3.5           1.4          0.2     setosa\n",
       "1             4.9          3.0           1.4          0.2     setosa\n",
       "2             4.7          3.2           1.3          0.2     setosa\n",
       "3             4.6          3.1           1.5          0.2     setosa\n",
       "4             5.0          3.6           1.4          0.2     setosa\n",
       "..            ...          ...           ...          ...        ...\n",
       "145           6.7          3.0           5.2          2.3  virginica\n",
       "146           6.3          2.5           5.0          1.9  virginica\n",
       "147           6.5          3.0           5.2          2.0  virginica\n",
       "148           6.2          3.4           5.4          2.3  virginica\n",
       "149           5.9          3.0           5.1          1.8  virginica\n",
       "\n",
       "[150 rows x 5 columns]"
      ]
     },
     "execution_count": 112,
     "metadata": {},
     "output_type": "execute_result"
    }
   ],
   "source": [
    "df=sns.load_dataset('iris')\n",
    "df"
   ]
  },
  {
   "cell_type": "code",
   "execution_count": 113,
   "id": "1b05a12b",
   "metadata": {},
   "outputs": [
    {
     "data": {
      "text/plain": [
       "sepal_length    0\n",
       "sepal_width     0\n",
       "petal_length    0\n",
       "petal_width     0\n",
       "species         0\n",
       "dtype: int64"
      ]
     },
     "execution_count": 113,
     "metadata": {},
     "output_type": "execute_result"
    }
   ],
   "source": [
    "df.isnull().sum()\n"
   ]
  },
  {
   "cell_type": "code",
   "execution_count": 114,
   "id": "8ae958ee",
   "metadata": {},
   "outputs": [
    {
     "data": {
      "text/html": [
       "<div>\n",
       "<style scoped>\n",
       "    .dataframe tbody tr th:only-of-type {\n",
       "        vertical-align: middle;\n",
       "    }\n",
       "\n",
       "    .dataframe tbody tr th {\n",
       "        vertical-align: top;\n",
       "    }\n",
       "\n",
       "    .dataframe thead th {\n",
       "        text-align: right;\n",
       "    }\n",
       "</style>\n",
       "<table border=\"1\" class=\"dataframe\">\n",
       "  <thead>\n",
       "    <tr style=\"text-align: right;\">\n",
       "      <th></th>\n",
       "      <th>sepal_length</th>\n",
       "      <th>sepal_width</th>\n",
       "      <th>petal_length</th>\n",
       "      <th>petal_width</th>\n",
       "    </tr>\n",
       "  </thead>\n",
       "  <tbody>\n",
       "    <tr>\n",
       "      <th>sepal_length</th>\n",
       "      <td>1.000000</td>\n",
       "      <td>-0.117570</td>\n",
       "      <td>0.871754</td>\n",
       "      <td>0.817941</td>\n",
       "    </tr>\n",
       "    <tr>\n",
       "      <th>sepal_width</th>\n",
       "      <td>-0.117570</td>\n",
       "      <td>1.000000</td>\n",
       "      <td>-0.428440</td>\n",
       "      <td>-0.366126</td>\n",
       "    </tr>\n",
       "    <tr>\n",
       "      <th>petal_length</th>\n",
       "      <td>0.871754</td>\n",
       "      <td>-0.428440</td>\n",
       "      <td>1.000000</td>\n",
       "      <td>0.962865</td>\n",
       "    </tr>\n",
       "    <tr>\n",
       "      <th>petal_width</th>\n",
       "      <td>0.817941</td>\n",
       "      <td>-0.366126</td>\n",
       "      <td>0.962865</td>\n",
       "      <td>1.000000</td>\n",
       "    </tr>\n",
       "  </tbody>\n",
       "</table>\n",
       "</div>"
      ],
      "text/plain": [
       "              sepal_length  sepal_width  petal_length  petal_width\n",
       "sepal_length      1.000000    -0.117570      0.871754     0.817941\n",
       "sepal_width      -0.117570     1.000000     -0.428440    -0.366126\n",
       "petal_length      0.871754    -0.428440      1.000000     0.962865\n",
       "petal_width       0.817941    -0.366126      0.962865     1.000000"
      ]
     },
     "execution_count": 114,
     "metadata": {},
     "output_type": "execute_result"
    }
   ],
   "source": [
    "df.corr()   # finding correlation ( positive value define the same direction and negative value define the opposite disrection)"
   ]
  },
  {
   "cell_type": "code",
   "execution_count": 115,
   "id": "80419316",
   "metadata": {},
   "outputs": [
    {
     "data": {
      "text/html": [
       "<div>\n",
       "<style scoped>\n",
       "    .dataframe tbody tr th:only-of-type {\n",
       "        vertical-align: middle;\n",
       "    }\n",
       "\n",
       "    .dataframe tbody tr th {\n",
       "        vertical-align: top;\n",
       "    }\n",
       "\n",
       "    .dataframe thead th {\n",
       "        text-align: right;\n",
       "    }\n",
       "</style>\n",
       "<table border=\"1\" class=\"dataframe\">\n",
       "  <thead>\n",
       "    <tr style=\"text-align: right;\">\n",
       "      <th></th>\n",
       "      <th>sepal_length</th>\n",
       "      <th>sepal_width</th>\n",
       "      <th>petal_length</th>\n",
       "      <th>petal_width</th>\n",
       "    </tr>\n",
       "  </thead>\n",
       "  <tbody>\n",
       "    <tr>\n",
       "      <th>sepal_length</th>\n",
       "      <td>0.685694</td>\n",
       "      <td>-0.042434</td>\n",
       "      <td>1.274315</td>\n",
       "      <td>0.516271</td>\n",
       "    </tr>\n",
       "    <tr>\n",
       "      <th>sepal_width</th>\n",
       "      <td>-0.042434</td>\n",
       "      <td>0.189979</td>\n",
       "      <td>-0.329656</td>\n",
       "      <td>-0.121639</td>\n",
       "    </tr>\n",
       "    <tr>\n",
       "      <th>petal_length</th>\n",
       "      <td>1.274315</td>\n",
       "      <td>-0.329656</td>\n",
       "      <td>3.116278</td>\n",
       "      <td>1.295609</td>\n",
       "    </tr>\n",
       "    <tr>\n",
       "      <th>petal_width</th>\n",
       "      <td>0.516271</td>\n",
       "      <td>-0.121639</td>\n",
       "      <td>1.295609</td>\n",
       "      <td>0.581006</td>\n",
       "    </tr>\n",
       "  </tbody>\n",
       "</table>\n",
       "</div>"
      ],
      "text/plain": [
       "              sepal_length  sepal_width  petal_length  petal_width\n",
       "sepal_length      0.685694    -0.042434      1.274315     0.516271\n",
       "sepal_width      -0.042434     0.189979     -0.329656    -0.121639\n",
       "petal_length      1.274315    -0.329656      3.116278     1.295609\n",
       "petal_width       0.516271    -0.121639      1.295609     0.581006"
      ]
     },
     "execution_count": 115,
     "metadata": {},
     "output_type": "execute_result"
    }
   ],
   "source": [
    "df.cov()    # finding covariance "
   ]
  },
  {
   "cell_type": "markdown",
   "id": "78d660af",
   "metadata": {},
   "source": [
    "# pair plot"
   ]
  },
  {
   "cell_type": "code",
   "execution_count": 117,
   "id": "82521520",
   "metadata": {},
   "outputs": [
    {
     "data": {
      "text/plain": [
       "<seaborn.axisgrid.PairGrid at 0x286613fc820>"
      ]
     },
     "execution_count": 117,
     "metadata": {},
     "output_type": "execute_result"
    },
    {
     "data": {
      "image/png": "[encoded data removed]",
      "text/plain": [
       "<Figure size 804.75x720 with 20 Axes>"
      ]
     },
     "metadata": {
      "needs_background": "light"
     },
     "output_type": "display_data"
    }
   ],
   "source": [
    "sns.pairplot(df,hue=\"species\")"
   ]
  },
  {
   "cell_type": "code",
   "execution_count": 118,
   "id": "80059e99",
   "metadata": {},
   "outputs": [
    {
     "name": "stdout",
     "output_type": "stream",
     "text": [
      "Thank you\n"
     ]
    }
   ],
   "source": [
    "print('Thank you')"
   ]
  },
  {
   "cell_type": "code",
   "execution_count": null,
   "id": "6a44aac1",
   "metadata": {},
   "outputs": [],
   "source": []
  }
 ],
 "metadata": {
  "kernelspec": {
   "display_name": "Python 3 (ipykernel)",
   "language": "python",
   "name": "python3"
  },
  "language_info": {
   "codemirror_mode": {
    "name": "ipython",
    "version": 3
   },
   "file_extension": ".py",
   "mimetype": "text/x-python",
   "name": "python",
   "nbconvert_exporter": "python",
   "pygments_lexer": "ipython3",
   "version": "3.9.12"
  }
 },
 "nbformat": 4,
 "nbformat_minor": 5
}
